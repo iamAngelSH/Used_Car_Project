{
 "cells": [
  {
   "cell_type": "code",
   "execution_count": 1,
   "id": "8512be7a-d747-4d40-bcfc-8eae7b0c5b9e",
   "metadata": {},
   "outputs": [
    {
     "name": "stdout",
     "output_type": "stream",
     "text": [
      "[SUCCESS]\n"
     ]
    }
   ],
   "source": [
    "# Import Libraries\n",
    "try:\n",
    "    # PYSPARK\n",
    "    from pyspark.sql import SparkSession\n",
    "    from pyspark import SparkContext\n",
    "    from pyspark.sql import SQLContext\n",
    "    from pyspark.sql import DataFrame\n",
    "    import pyspark.sql.types as tp\n",
    "    import pyspark.sql.functions as F\n",
    "    \n",
    "    # OTHER LIBRARIES\n",
    "    import pandas as pd\n",
    "    import numpy as np\n",
    "    import glob\n",
    "    from functools import reduce\n",
    "    import seaborn as sns\n",
    "    import matplotlib.pyplot as plt\n",
    "    from urllib.request import urlopen\n",
    "    import datetime\n",
    "    from pathlib import Path\n",
    "    \n",
    "    print('[SUCCESS]')\n",
    "\n",
    "    #CATCH ERROR IMPORTING A LIBRARY\n",
    "except ImportError as ie:\n",
    "    raise ImportError(f'[Error importing]: {ie}')"
   ]
  },
  {
   "cell_type": "code",
   "execution_count": 2,
   "id": "f4f5fbc5-f5d3-4c10-af8b-cd2c5e13929f",
   "metadata": {},
   "outputs": [],
   "source": [
    "# INITIALIZING OUR SPARK SESSION AND APP\n",
    "# - this will be the name for the spark session when running our individual notebooks\n",
    "spark = SparkSession.builder.master('local').config(\"spark.executor.memory\", \"1g\").config(\"spark.driver.memory\", \"2g\").appName('UsedCar_Project').getOrCreate()"
   ]
  },
  {
   "cell_type": "code",
   "execution_count": 3,
   "id": "b4cfc076-a593-46b7-b952-3526b89a0f03",
   "metadata": {},
   "outputs": [
    {
     "name": "stdout",
     "output_type": "stream",
     "text": [
      "--2022-04-04 22:22:19--  https://storage.googleapis.com/iamangelsh-public-datasets/car_prices.csv\n",
      "Resolving storage.googleapis.com (storage.googleapis.com)... 173.194.203.128, 74.125.20.128, 74.125.197.128, ...\n",
      "Connecting to storage.googleapis.com (storage.googleapis.com)|173.194.203.128|:443... connected.\n",
      "HTTP request sent, awaiting response... 200 OK\n",
      "Length: 89088424 (85M) [application/vnd.ms-excel]\n",
      "Saving to: ‘car_prices.csv’\n",
      "\n",
      "car_prices.csv      100%[===================>]  84.96M  4.23MB/s    in 19s     \n",
      "\n",
      "2022-04-04 22:22:39 (4.39 MB/s) - ‘car_prices.csv’ saved [89088424/89088424]\n",
      "\n",
      "+----+-----+-------------------+----------+-----+------------+-----------------+-----+---------+--------+-----+--------+--------------------+-----+------------+--------------------+\n",
      "|year| make|              model|      trim| body|transmission|              vin|state|condition|odometer|color|interior|              seller|  mmr|sellingprice|            saledate|\n",
      "+----+-----+-------------------+----------+-----+------------+-----------------+-----+---------+--------+-----+--------+--------------------+-----+------------+--------------------+\n",
      "|2015|  Kia|            Sorento|        LX|  SUV|   automatic|5xyktca69fg566472|   ca|        5|   16639|white|   black|kia motors americ...|20500|       21500|Tue Dec 16 2014 1...|\n",
      "|2015|  Kia|            Sorento|        LX|  SUV|   automatic|5xyktca69fg561319|   ca|        5|    9393|white|   beige|kia motors americ...|20800|       21500|Tue Dec 16 2014 1...|\n",
      "|2014|  BMW|           3 Series|328i SULEV|Sedan|   automatic|wba3c1c51ek116351|   ca|      4.5|    1331| gray|   black|financial service...|31900|       30000|Thu Jan 15 2015 0...|\n",
      "|2015|Volvo|                S60|        T5|Sedan|   automatic|yv1612tb4f1310987|   ca|      4.1|   14282|white|   black|volvo na rep/worl...|27500|       27750|Thu Jan 29 2015 0...|\n",
      "|2014|  BMW|6 Series Gran Coupe|      650i|Sedan|   automatic|wba6b2c57ed129731|   ca|      4.3|    2641| gray|   black|financial service...|66000|       67000|Thu Dec 18 2014 1...|\n",
      "+----+-----+-------------------+----------+-----+------------+-----------------+-----+---------+--------+-----+--------+--------------------+-----+------------+--------------------+\n",
      "only showing top 5 rows\n",
      "\n",
      "Number of columns: 16 \n",
      "Number of Rows: 558837\n"
     ]
    }
   ],
   "source": [
    "# Best Way to read in the data since file is to big to upload to Git\n",
    "# Copy and paste this cell into your individual notebooks and run to load data\n",
    "\n",
    "\n",
    "def load_data():\n",
    "    path = Path('car_prices.csv') # CHECKS TO SEE IF FILE EXIST\n",
    "    \n",
    "    # IF FILE DOES NOT EXIST\n",
    "    ## DOWNLOAD DATA FROM GOOGLE STORAGE\n",
    "    if not path.is_file():\n",
    "        !wget https://storage.googleapis.com/iamangelsh-public-datasets/car_prices.csv # THIS COMMAND WILL ONLY RUN IN DOCKER CONTAINER USING JUPYTER NOTEBOOK\n",
    "    \n",
    "    df = spark.read.option(\"header\",True).csv(\"car_prices.csv\") # LOAD IN DATA WITH HEADERS\n",
    "    \n",
    "    return df # RETURN SPARK DATAFRAME\n",
    "\n",
    "\n",
    "# LOAD THE DATA\n",
    "df = load_data()\n",
    "\n",
    "# SHOW DATA\n",
    "df.show(5)\n",
    "\n",
    "print(f'Number of columns: {len(df.columns)} \\nNumber of Rows: {df.count()}')"
   ]
  },
  {
   "cell_type": "markdown",
   "id": "e32c785b-64e8-4c9c-9945-d7ba646bee8e",
   "metadata": {},
   "source": [
    "# Analysis Below"
   ]
  },
  {
   "cell_type": "code",
   "execution_count": 6,
   "id": "32f246d2-7d0d-4b38-859c-6d54bfcdbef7",
   "metadata": {},
   "outputs": [
    {
     "data": {
      "text/plain": [
       "Row(year='2015', make='Kia', model='Sorento', trim='LX', body='SUV', transmission='automatic', vin='5xyktca69fg566472', state='ca', condition='5', odometer='16639', color='white', interior='black', seller='kia motors america, inc', mmr='20500', sellingprice='21500', saledate='Tue Dec 16 2014 12:30:00 GMT-0800 (PST)')"
      ]
     },
     "execution_count": 6,
     "metadata": {},
     "output_type": "execute_result"
    }
   ],
   "source": [
    "df.head()"
   ]
  },
  {
   "cell_type": "code",
   "execution_count": null,
   "id": "c229020f-a3e6-42df-a66b-d28af3ac72f9",
   "metadata": {},
   "outputs": [],
   "source": []
  }
 ],
 "metadata": {
  "kernelspec": {
   "display_name": "Python 3 (ipykernel)",
   "language": "python",
   "name": "python3"
  },
  "language_info": {
   "codemirror_mode": {
    "name": "ipython",
    "version": 3
   },
   "file_extension": ".py",
   "mimetype": "text/x-python",
   "name": "python",
   "nbconvert_exporter": "python",
   "pygments_lexer": "ipython3",
   "version": "3.9.7"
  }
 },
 "nbformat": 4,
 "nbformat_minor": 5
}
