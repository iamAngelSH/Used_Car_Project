{
 "cells": [
  {
   "cell_type": "markdown",
   "id": "cd46bbcb-1d5b-453e-9b44-c48b9417c714",
   "metadata": {},
   "source": [
    "# Used Car Dataset Price Prediction using Linear Regression"
   ]
  },
  {
   "cell_type": "code",
   "execution_count": 1,
   "id": "ababe66d-cc9b-4fa6-9528-9fedbc0cd9b1",
   "metadata": {},
   "outputs": [
    {
     "name": "stdout",
     "output_type": "stream",
     "text": [
      "[SUCCESS]\n"
     ]
    }
   ],
   "source": [
    "# IMPORT LIBRARIES\n",
    "# Import Libraries\n",
    "try:\n",
    "    # PYSPARK\n",
    "    from pyspark.sql import SparkSession\n",
    "    from pyspark import SparkContext\n",
    "    from pyspark.sql import SQLContext\n",
    "    from pyspark.sql import DataFrame\n",
    "    import pyspark.sql.types as tp\n",
    "    import pyspark.sql.functions as F\n",
    "    \n",
    "    #Py Spark ML Libraries\n",
    "    from pyspark.ml.classification import LogisticRegression\n",
    "    from pyspark.ml.regression import LinearRegression\n",
    "    from pyspark.ml.feature import OneHotEncoder, StringIndexer, VectorAssembler, StandardScaler\n",
    "    from pyspark.ml import Pipeline\n",
    "    from pyspark.ml.tuning import ParamGridBuilder, CrossValidator, CrossValidatorModel\n",
    "    \n",
    "    # OTHER LIBRARIES\n",
    "    import pandas as pd\n",
    "    import numpy as np\n",
    "    import glob\n",
    "    from functools import reduce\n",
    "    import seaborn as sns\n",
    "    import matplotlib.pyplot as plt\n",
    "    from urllib.request import urlopen\n",
    "    import datetime\n",
    "    from pathlib import Path\n",
    "    \n",
    "    print('[SUCCESS]')\n",
    "\n",
    "    #CATCH ERROR IMPORTING A LIBRARY\n",
    "except ImportError as ie:\n",
    "    raise ImportError(f'[Error importing]: {ie}')"
   ]
  },
  {
   "cell_type": "markdown",
   "id": "034f6498-46dc-4846-85c3-d4d919f71903",
   "metadata": {},
   "source": [
    "## Initializing Spark session and cluster for work enviornment"
   ]
  },
  {
   "cell_type": "code",
   "execution_count": 8,
   "id": "e1c23fa3-fc2e-43fc-b34f-29289908e312",
   "metadata": {},
   "outputs": [
    {
     "name": "stdout",
     "output_type": "stream",
     "text": [
      "[SUCCESSFULLY RUNNING SPARK SESSION]\n"
     ]
    }
   ],
   "source": [
    "\n",
    "'''\n",
    "INITIALIZING SPARK SESSION\n",
    "- NAME IS SET FOR SPARK SESSION WHEN RUNNING ON LOCAL HOST\n",
    "'''\n",
    "spark = SparkSession.builder.master('local').config(\"spark.executor.memory\", \"1g\").config(\"spark.driver.memory\", \"2g\").appName('UsedCar_Project').getOrCreate()\n",
    "print('[SUCCESSFULLY RUNNING SPARK SESSION]')\n"
   ]
  },
  {
   "cell_type": "markdown",
   "id": "28e50d19-aad5-439e-b9cd-6e27aae3f731",
   "metadata": {},
   "source": [
    "# Load data"
   ]
  },
  {
   "cell_type": "code",
   "execution_count": 17,
   "id": "1f6ef60b-6ec2-4516-afb4-3fc3fc8043ee",
   "metadata": {},
   "outputs": [
    {
     "name": "stdout",
     "output_type": "stream",
     "text": [
      "+----+-----+-------------------+----------+-----+------------+-----------------+-----+---------+--------+-----+--------+--------------------+-----+------------+--------------------+\n",
      "|year| make|              model|      trim| body|transmission|              vin|state|condition|odometer|color|interior|              seller|  mmr|sellingprice|            saledate|\n",
      "+----+-----+-------------------+----------+-----+------------+-----------------+-----+---------+--------+-----+--------+--------------------+-----+------------+--------------------+\n",
      "|2015|  Kia|            Sorento|        LX|  SUV|   automatic|5xyktca69fg566472|   ca|        5| 16639.0|white|   black|kia motors americ...|20500|       21500|Tue Dec 16 2014 1...|\n",
      "|2015|  Kia|            Sorento|        LX|  SUV|   automatic|5xyktca69fg561319|   ca|        5|  9393.0|white|   beige|kia motors americ...|20800|       21500|Tue Dec 16 2014 1...|\n",
      "|2014|  BMW|           3 Series|328i SULEV|Sedan|   automatic|wba3c1c51ek116351|   ca|      4.5|  1331.0| gray|   black|financial service...|31900|       30000|Thu Jan 15 2015 0...|\n",
      "|2015|Volvo|                S60|        T5|Sedan|   automatic|yv1612tb4f1310987|   ca|      4.1| 14282.0|white|   black|volvo na rep/worl...|27500|       27750|Thu Jan 29 2015 0...|\n",
      "|2014|  BMW|6 Series Gran Coupe|      650i|Sedan|   automatic|wba6b2c57ed129731|   ca|      4.3|  2641.0| gray|   black|financial service...|66000|       67000|Thu Dec 18 2014 1...|\n",
      "+----+-----+-------------------+----------+-----+------------+-----------------+-----+---------+--------+-----+--------+--------------------+-----+------------+--------------------+\n",
      "only showing top 5 rows\n",
      "\n",
      "Number of columns: 16 \n",
      "Number of Rows: 558837\n",
      "\n",
      "root\n",
      " |-- year: integer (nullable = true)\n",
      " |-- make: string (nullable = true)\n",
      " |-- model: string (nullable = true)\n",
      " |-- trim: string (nullable = true)\n",
      " |-- body: string (nullable = true)\n",
      " |-- transmission: string (nullable = true)\n",
      " |-- vin: string (nullable = true)\n",
      " |-- state: string (nullable = true)\n",
      " |-- condition: string (nullable = true)\n",
      " |-- odometer: double (nullable = true)\n",
      " |-- color: string (nullable = true)\n",
      " |-- interior: string (nullable = true)\n",
      " |-- seller: string (nullable = true)\n",
      " |-- mmr: string (nullable = true)\n",
      " |-- sellingprice: integer (nullable = true)\n",
      " |-- saledate: string (nullable = true)\n",
      "\n"
     ]
    }
   ],
   "source": [
    "def load_data():\n",
    "    '''\n",
    "    car_prices.csv is uploaded to a google bucket for public use. Since file is too large to push to GitHub for others to use from repo\n",
    "    this function will load the data from the google bucket.\n",
    "    \n",
    "    You can run this function each time and it will not download a new dataset each time since the first time you run it, it will download locally to your directory.\n",
    "    --- unless you delete it each time\n",
    "    \n",
    "    Function will check to make sure file is in the directory\n",
    "    - if it is, load it to a spark dataframe\n",
    "    - if it is not, download it, then load it to a spark dataframe\n",
    "    \n",
    "    \n",
    "    \n",
    "    WARNING: TO USE THIS FUNCTION, YOU HAVE TO BE RUNNING JUPYTER NOTEBOOK ON A LINUX SERVER (USE DOCKER)\n",
    "    \n",
    "    NOTES:\n",
    "    option(\"header\",True).option(\"inferSchema\", True)\n",
    "    '''\n",
    "    \n",
    "    # CHECKS TO SEE IF FILE EXIST\n",
    "    path = Path('car_prices.csv') \n",
    "    \n",
    "    # IF FILE DOES NOT EXIST\n",
    "    if not path.is_file():\n",
    "        !wget https://storage.googleapis.com/iamangelsh-public-datasets/car_prices.csv \n",
    "    \n",
    "    df = spark.read.csv(\"car_prices.csv\", header = True, schema = None, inferSchema = True) # LOAD IN DATA WITH HEADERS\n",
    "    \n",
    "    return df\n",
    "\n",
    "\n",
    "# LOAD THE DATA\n",
    "df = load_data()\n",
    "\n",
    "# SHOW DATA\n",
    "df.show(5)\n",
    "\n",
    "# SHOW NUMBER OF COLUMNS AND ROWS\n",
    "print(f'Number of columns: {len(df.columns)} \\nNumber of Rows: {df.count()}')\n",
    "print()\n",
    "df.printSchema()"
   ]
  },
  {
   "cell_type": "markdown",
   "id": "947930b0-d45d-4266-a215-3c1804091314",
   "metadata": {},
   "source": [
    "## Check for null values in our dataframe"
   ]
  },
  {
   "cell_type": "code",
   "execution_count": 18,
   "id": "a71adeab-2595-4afb-abd8-6a935191b1ff",
   "metadata": {},
   "outputs": [
    {
     "name": "stdout",
     "output_type": "stream",
     "text": [
      "+----+-----+-----+-----+-----+------------+---+-----+---------+--------+-----+--------+------+---+------------+--------+\n",
      "|year| make|model| trim| body|transmission|vin|state|condition|odometer|color|interior|seller|mmr|sellingprice|saledate|\n",
      "+----+-----+-----+-----+-----+------------+---+-----+---------+--------+-----+--------+------+---+------------+--------+\n",
      "|   0|10301|10399|10651|13195|       65353|  4|    0|    11794|      94|  749|     749|     0|  0|           0|       0|\n",
      "+----+-----+-----+-----+-----+------------+---+-----+---------+--------+-----+--------+------+---+------------+--------+\n",
      "\n"
     ]
    }
   ],
   "source": [
    "def null_values(df):\n",
    "    '''\n",
    "    TAKES IN A DATAFRAME AND RETURNS THE COUNT OF NULL VALUES IN EACH COLUMN\n",
    "    '''\n",
    "    return df.agg(*[F.count(F.when(F.isnull(c), c)).alias(c) for c in df.columns])\n",
    "\n",
    "NULL_VAL_COUNTS = null_values(df)\n",
    "NULL_VAL_COUNTS.show()"
   ]
  },
  {
   "cell_type": "markdown",
   "id": "c7cb7270-5985-4bfa-9521-19c50a10fbae",
   "metadata": {},
   "source": [
    "### Notes on columns to drop"
   ]
  },
  {
   "cell_type": "markdown",
   "id": "f294f0f7-dec9-48fc-9314-8c130bac4667",
   "metadata": {},
   "source": [
    "Drop:\n",
    "- VIN\n",
    "- MMR\n",
    "    - I don't think we need to use MMR since we aren't using it to predict saleprice as this is only an indicator of \"WHOLESALE Prices\"\n",
    "- Seller\n",
    "    - Drop, to much noise in the column that will not add value to our modeling (maybe for EDA)?\n",
    "\n",
    "Create new columns - an idea?:\n",
    "- Add a threshold in the condition column\n",
    "    - Such as above 3.75 =  Good\n",
    "    - 2 - 3.75 = Medium\n",
    "    - Anything less < 2 = bad\n",
    "    \n",
    "   "
   ]
  },
  {
   "cell_type": "markdown",
   "id": "78b174c2-4312-4050-92fb-85e25b9e2374",
   "metadata": {},
   "source": [
    "**Insights on some of the columns**"
   ]
  },
  {
   "cell_type": "code",
   "execution_count": 30,
   "id": "9b119c3b-d597-4d0f-8c82-629e5cd3119b",
   "metadata": {},
   "outputs": [
    {
     "name": "stdout",
     "output_type": "stream",
     "text": [
      "+-----------------+-----+\n",
      "|state            |count|\n",
      "+-----------------+-----+\n",
      "|pr               |2725 |\n",
      "|ne               |4013 |\n",
      "|il               |23486|\n",
      "|ns               |61   |\n",
      "|tx               |45913|\n",
      "|3vwd17aj6fm218641|1    |\n",
      "|nv               |12685|\n",
      "|3vwd17aj5fm221322|1    |\n",
      "|oh               |21575|\n",
      "|3vwd17aj2fm258506|1    |\n",
      "|3vwd17aj7fm326640|1    |\n",
      "|3vwd17aj5fm225953|1    |\n",
      "|3vwd17aj2fm261566|1    |\n",
      "|in               |4325 |\n",
      "|ms               |1851 |\n",
      "|wi               |9851 |\n",
      "|3vwd17aj7fm223475|1    |\n",
      "|nm               |171  |\n",
      "|3vwd17aj5fm219943|1    |\n",
      "|3vwd17aj5fm268964|1    |\n",
      "|nj               |27784|\n",
      "|sc               |4251 |\n",
      "|co               |7775 |\n",
      "|on               |3442 |\n",
      "|3vwd17aj3fm276741|1    |\n",
      "|ab               |928  |\n",
      "|ok               |72   |\n",
      "|qc               |1245 |\n",
      "|3vwd17aj7fm218440|1    |\n",
      "|va               |12027|\n",
      "|fl               |82945|\n",
      "|mn               |9429 |\n",
      "|ca               |73148|\n",
      "|al               |26   |\n",
      "|tn               |20895|\n",
      "|ga               |34750|\n",
      "|3vwd17aj9fm219766|1    |\n",
      "|3vwd17aj6fm231972|1    |\n",
      "|ma               |6729 |\n",
      "|3vwd17aj8fm239622|1    |\n",
      "|nc               |21845|\n",
      "|3vwd17aj7fm222388|1    |\n",
      "|3vwd17aj7fm229552|1    |\n",
      "|pa               |53907|\n",
      "|3vwd17aj5fm297123|1    |\n",
      "|3vwd17aj4fm236636|1    |\n",
      "|wa               |7416 |\n",
      "|3vwd17aj4fm201708|1    |\n",
      "|3vwd17aj2fm285365|1    |\n",
      "|hi               |1237 |\n",
      "|3vwd17aj5fm273601|1    |\n",
      "|3vwd17aj8fm298895|1    |\n",
      "|mi               |15511|\n",
      "|az               |8741 |\n",
      "|3vwd17aj0fm227318|1    |\n",
      "|ut               |1836 |\n",
      "|3vwd17ajxfm315938|1    |\n",
      "|md               |11158|\n",
      "|3vwd17aj3fm259017|1    |\n",
      "|3vwd17aj5fm206111|1    |\n",
      "|la               |2191 |\n",
      "|or               |1155 |\n",
      "|ny               |5699 |\n",
      "|mo               |16013|\n",
      "+-----------------+-----+\n",
      "\n"
     ]
    }
   ],
   "source": [
    "states = df.select(['state']).groupBy('state').count()\n",
    "states.show(states.count(), truncate = False)"
   ]
  },
  {
   "cell_type": "code",
   "execution_count": null,
   "id": "33791756-1292-42cc-9943-bde4d320b8c1",
   "metadata": {},
   "outputs": [],
   "source": []
  }
 ],
 "metadata": {
  "kernelspec": {
   "display_name": "Python 3 (ipykernel)",
   "language": "python",
   "name": "python3"
  },
  "language_info": {
   "codemirror_mode": {
    "name": "ipython",
    "version": 3
   },
   "file_extension": ".py",
   "mimetype": "text/x-python",
   "name": "python",
   "nbconvert_exporter": "python",
   "pygments_lexer": "ipython3",
   "version": "3.9.10"
  }
 },
 "nbformat": 4,
 "nbformat_minor": 5
}
